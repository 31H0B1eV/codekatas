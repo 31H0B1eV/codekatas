{
 "cells": [
  {
   "cell_type": "markdown",
   "metadata": {},
   "source": [
    "# Code Katas\n",
    "Keep your skills sharp by implementing fundamental (and sometimes tricky) algorithms and data structures over and over again."
   ]
  },
  {
   "cell_type": "markdown",
   "metadata": {},
   "source": [
    "## White Belt\n",
    "*Easy peasy lemon squeezy*"
   ]
  },
  {
   "cell_type": "markdown",
   "metadata": {},
   "source": [
    "### Palindrome String\n",
    "Check if input string is a palindrome. Try to only use constant extra space."
   ]
  },
  {
   "cell_type": "code",
   "execution_count": 4,
   "metadata": {
    "collapsed": false
   },
   "outputs": [
    {
     "name": "stdout",
     "output_type": "stream",
     "text": [
      "All passed!\n"
     ]
    }
   ],
   "source": [
    "def palindrome(string):\n",
    "    \"\"\"Check if input string (all lower-case characters) is a palindrome.\"\"\"\n",
    "    for i in range(len(string)/2):\n",
    "        if string[i] != string[len(string)-i-1]:\n",
    "            return False\n",
    "    return True\n",
    "    \n",
    "assert palindrome('') == True\n",
    "assert palindrome('a') == True\n",
    "assert palindrome('ab') == False\n",
    "assert palindrome('abba') == True\n",
    "assert palindrome('redivider') == True\n",
    "print('All passed!')"
   ]
  },
  {
   "cell_type": "markdown",
   "metadata": {},
   "source": [
    "### Merge Sorted\n",
    "Merge two lists sorted in descending order. Result should also be sorted in descending order."
   ]
  },
  {
   "cell_type": "code",
   "execution_count": 4,
   "metadata": {
    "collapsed": false
   },
   "outputs": [
    {
     "name": "stdout",
     "output_type": "stream",
     "text": [
      "All passed!\n"
     ]
    }
   ],
   "source": [
    "def merge(a, b):\n",
    "    \"\"\"Merge two lists sorted in descending order.\"\"\"\n",
    "    return [max(a, b).pop(0) for _ in a+b]\n",
    "\n",
    "assert merge([], []) == []\n",
    "assert merge([1], [0]) == [1,0]\n",
    "assert merge([7,5,1], [2]) == [7,5,2,1]\n",
    "print('All passed!')"
   ]
  },
  {
   "cell_type": "markdown",
   "metadata": {},
   "source": [
    "### Length of Last Word\n",
    "Given a string of words separated by spaced, return length of last word. Think of an efficient way to do it for a string with millions of words in it."
   ]
  },
  {
   "cell_type": "code",
   "execution_count": 8,
   "metadata": {
    "collapsed": false
   },
   "outputs": [
    {
     "name": "stdout",
     "output_type": "stream",
     "text": [
      "All passed!\n"
     ]
    }
   ],
   "source": [
    "def last_word_length(text):\n",
    "    \"\"\"Given a string of words separated by spaced, return length of last word.\"\"\"\n",
    "    i = len(text)-1\n",
    "    while i >= 0 and text[i] == ' ':\n",
    "        i -= 1\n",
    "    count = 0\n",
    "    while i >= 0 and text[i] != ' ':\n",
    "        i -= 1\n",
    "        count += 1\n",
    "    return count\n",
    "\n",
    "assert last_word_length('') == 0\n",
    "assert last_word_length('last   ') == 4\n",
    "assert last_word_length('string  of  words') == 5\n",
    "print('All passed!')"
   ]
  },
  {
   "cell_type": "markdown",
   "metadata": {},
   "source": [
    "## Yellow Belt\n",
    "*Requires a certain level of problem solving and coding skills*\n",
    "### Binary search\n",
    "Let's start with binary search. Implement find_in_sorted function that looks for number *target* in a sorted array *nums*. Remember, it has to run in O(logN) time."
   ]
  },
  {
   "cell_type": "code",
   "execution_count": 14,
   "metadata": {
    "collapsed": false
   },
   "outputs": [
    {
     "name": "stdout",
     "output_type": "stream",
     "text": [
      "All passed!\n"
     ]
    }
   ],
   "source": [
    "def find_in_sorted(nums, target):\n",
    "    \"\"\"Binary search.\"\"\"\n",
    "    start, end = 0, len(nums)-1\n",
    "    while start < end:\n",
    "        mid = (start+end)/2\n",
    "        if nums[mid] == target:\n",
    "            return mid\n",
    "        elif nums[mid] < target:\n",
    "            start = mid+1\n",
    "        else:\n",
    "            end = mid-1\n",
    "    return -1\n",
    "\n",
    "assert find_in_sorted([], 0) == -1\n",
    "assert find_in_sorted([1,2,3], 0) == -1\n",
    "assert find_in_sorted([1,2,3], 2) == 1\n",
    "assert find_in_sorted([1,2,2,2,2,2,3], 2) in range(1, 6)\n",
    "assert find_in_sorted([1,2,3,4,6,7,8,12,13,16], 12) == 7\n",
    "print('All passed!')"
   ]
  },
  {
   "cell_type": "markdown",
   "metadata": {},
   "source": [
    "### Maximum Profit\n",
    "Given stock prices list, find maximum profit possible. You can buy and sell multiple times, but you can't hold more than one share at a time. Hint: the solution is really simple, but it's not easy to figure it out - go over some custom test cases by hand and try to see a pattern."
   ]
  },
  {
   "cell_type": "code",
   "execution_count": 1,
   "metadata": {
    "collapsed": false
   },
   "outputs": [
    {
     "name": "stdout",
     "output_type": "stream",
     "text": [
      "All passed\n"
     ]
    }
   ],
   "source": [
    "def max_profit(prices):\n",
    "    \"\"\"Find maximum profit possible.\"\"\"\n",
    "    profit = 0\n",
    "    for i in range(len(prices)-1):\n",
    "        if prices[i+1] > prices[i]:\n",
    "            profit += prices[i+1] - prices[i]\n",
    "    return profit\n",
    "\n",
    "assert max_profit([]) == 0\n",
    "assert max_profit([100]) == 0\n",
    "assert max_profit([1,6,5,2,8,1,4,5]) == 15\n",
    "assert max_profit(range(100, 0, -1)) == 0\n",
    "print('All passed')"
   ]
  },
  {
   "cell_type": "markdown",
   "metadata": {},
   "source": [
    "### Simplify Unix-style file path."
   ]
  },
  {
   "cell_type": "code",
   "execution_count": 1,
   "metadata": {
    "collapsed": false
   },
   "outputs": [
    {
     "name": "stdout",
     "output_type": "stream",
     "text": [
      "All passed!\n"
     ]
    }
   ],
   "source": [
    "def simplify_path(path):\n",
    "    \"\"\"Simplify Unix-style file path.\"\"\"\n",
    "    stack = []\n",
    "    tokens = [t for t in path.split('/') if t != '.' and t != '']\n",
    "    for token in tokens:\n",
    "        if token != '..':\n",
    "            stack.append(token)\n",
    "        elif stack:\n",
    "            stack.pop()\n",
    "    return '/'+'/'.join(stack)\n",
    "\n",
    "assert simplify_path('/') == '/'\n",
    "assert simplify_path('/../') == '/'\n",
    "assert simplify_path('/...') == '/...'\n",
    "assert simplify_path('/.../') == '/...'\n",
    "assert simplify_path('/foo/..') == '/'\n",
    "assert simplify_path('/foo///.//bar//') == '/foo/bar'\n",
    "print('All passed!')"
   ]
  },
  {
   "cell_type": "markdown",
   "metadata": {},
   "source": [
    "## Orange Belt\n",
    "*Advanced stuff, certain flexibility of thinking is required*\n",
    "### Linked Lists\n",
    "These tend to be trickier than they seem.\n",
    "\n",
    "First, reverse a linked list iteratively, in place."
   ]
  },
  {
   "cell_type": "code",
   "execution_count": 16,
   "metadata": {
    "collapsed": false
   },
   "outputs": [
    {
     "name": "stdout",
     "output_type": "stream",
     "text": [
      "All passed!\n"
     ]
    }
   ],
   "source": [
    "class ListNode(object):\n",
    "    def __init__(self, x):\n",
    "        self.val = x\n",
    "        self.next = None\n",
    "        \n",
    "    def __str__(self): # for your debugging purposes\n",
    "        return str(self.val) + '->' + str(self.next)\n",
    "    \n",
    "    def __eq__(self, other): # for asserts to work\n",
    "            return (isinstance(other, self.__class__) \n",
    "                and self.__dict__ == other.__dict__)\n",
    "        \n",
    "def reverse_list(head):\n",
    "    \"\"\"Iterative solution.\"\"\"\n",
    "    prev = None\n",
    "    while head:\n",
    "        nxt = head.next\n",
    "        head.next = prev\n",
    "        prev = head\n",
    "        head = nxt\n",
    "    return prev\n",
    "\n",
    "head = ListNode(1)\n",
    "rev = ListNode(1)\n",
    "assert reverse_list(head) == head\n",
    "\n",
    "head = ListNode(1)\n",
    "head.next = ListNode(2)\n",
    "rev = ListNode(2)\n",
    "rev.next = ListNode(1)\n",
    "assert reverse_list(head) == rev\n",
    "\n",
    "head = ListNode(1)\n",
    "head.next = ListNode(2)\n",
    "head.next.next = ListNode(3)\n",
    "rev = ListNode(3)\n",
    "rev.next = ListNode(2)\n",
    "rev.next.next = ListNode(1)\n",
    "assert reverse_list(head) == rev\n",
    "print('All passed!')"
   ]
  },
  {
   "cell_type": "markdown",
   "metadata": {},
   "source": [
    "Now, let's do the same, only this time recursively."
   ]
  },
  {
   "cell_type": "code",
   "execution_count": 17,
   "metadata": {
    "collapsed": false
   },
   "outputs": [
    {
     "name": "stdout",
     "output_type": "stream",
     "text": [
      "All passed!\n"
     ]
    }
   ],
   "source": [
    "class ListNode(object):\n",
    "    def __init__(self, x):\n",
    "        self.val = x\n",
    "        self.next = None\n",
    "        \n",
    "    def __str__(self): # for your debugging purposes\n",
    "        return str(self.val) + '->' + str(self.next)\n",
    "    \n",
    "    def __eq__(self, other): # for asserts to work\n",
    "            return (isinstance(other, self.__class__) \n",
    "                and self.__dict__ == other.__dict__)\n",
    "        \n",
    "def reverse_list(head, prev=None):\n",
    "    \"\"\"Recursive solution.\"\"\"\n",
    "    if not head:\n",
    "        return prev\n",
    "    nxt = head.next\n",
    "    head.next = prev\n",
    "    return reverse_list(nxt, head)\n",
    "\n",
    "head = ListNode(1)\n",
    "rev = ListNode(1)\n",
    "assert reverse_list(head) == head\n",
    "\n",
    "head = ListNode(1)\n",
    "head.next = ListNode(2)\n",
    "rev = ListNode(2)\n",
    "rev.next = ListNode(1)\n",
    "assert reverse_list(head) == rev\n",
    "\n",
    "head = ListNode(1)\n",
    "head.next = ListNode(2)\n",
    "head.next.next = ListNode(3)\n",
    "rev = ListNode(3)\n",
    "rev.next = ListNode(2)\n",
    "rev.next.next = ListNode(1)\n",
    "assert reverse_list(head) == rev\n",
    "print('All passed!')"
   ]
  },
  {
   "cell_type": "markdown",
   "metadata": {},
   "source": [
    "## Green Belt\n",
    "*You'll be a black belt soon enough*\n",
    "### List Subsets\n",
    "Find all possible subsets of a list (or all possible sets of characters contained in a string)."
   ]
  },
  {
   "cell_type": "code",
   "execution_count": 19,
   "metadata": {
    "collapsed": false
   },
   "outputs": [
    {
     "name": "stdout",
     "output_type": "stream",
     "text": [
      "All passed!\n"
     ]
    }
   ],
   "source": [
    "def subsets(s):\n",
    "    \"\"\"Find all possible subsets of a list.\"\"\"\n",
    "    if not s:\n",
    "        return [[]]\n",
    "    res = []\n",
    "    for sub in subsets(s[1:]):\n",
    "        res.append(sub)\n",
    "        res.append([s[0]]+sub)\n",
    "    return res\n",
    "\n",
    "assert subsets('') == [[]]\n",
    "# please note, inputs 'abc' and ['a', 'b', 'c'] should be equivalent for your function\n",
    "assert subsets('abc') == [[],['a'],['b'],['a','b'],['c'],['a','c'],['b','c'],['a','b','c']]\n",
    "assert subsets(['a','b','c']) == [[],['a'],['b'],['a','b'],['c'],['a','c'],['b','c'],['a','b','c']]\n",
    "print('All passed!')"
   ]
  },
  {
   "cell_type": "markdown",
   "metadata": {},
   "source": [
    "### String Permutations\n",
    "Find all possible permutations of a string."
   ]
  },
  {
   "cell_type": "code",
   "execution_count": 23,
   "metadata": {
    "collapsed": false
   },
   "outputs": [
    {
     "name": "stdout",
     "output_type": "stream",
     "text": [
      "['abc', 'acb', 'bac', 'bca', 'cab', 'cba']\n",
      "All passed!\n"
     ]
    }
   ],
   "source": [
    "def string_permutations(s):\n",
    "    \"\"\"Find all possible permutations of a string.\"\"\"\n",
    "    if not s:\n",
    "        return ['']\n",
    "    res = []\n",
    "    for perm in string_permutations(s[1:]):\n",
    "        for i in range(len(perm)+1):\n",
    "            res.append(perm[:i]+s[0]+perm[i:])\n",
    "    return sorted(res)\n",
    "\n",
    "assert string_permutations('') == ['']\n",
    "assert string_permutations('abc') == ['abc','acb','bac','bca','cab','cba']\n",
    "print('All passed!')"
   ]
  },
  {
   "cell_type": "markdown",
   "metadata": {},
   "source": [
    "## Blue Belt\n",
    "*With great power comes great responsibility*"
   ]
  },
  {
   "cell_type": "markdown",
   "metadata": {},
   "source": [
    "### Implement Quicksort"
   ]
  },
  {
   "cell_type": "code",
   "execution_count": 2,
   "metadata": {
    "collapsed": false
   },
   "outputs": [
    {
     "name": "stdout",
     "output_type": "stream",
     "text": [
      "All passed!\n"
     ]
    }
   ],
   "source": [
    "def quicksort(nums, start=0, end=None):\n",
    "    \"\"\"Quicksort using last element as pivot.\"\"\"\n",
    "    def partition(nums, start, end):\n",
    "        pindex = start\n",
    "        pivot = end\n",
    "        for i in range(start, end):\n",
    "            if nums[i] <= nums[pivot]:\n",
    "                nums[i], nums[pindex] = nums[pindex], nums[i]\n",
    "                pindex += 1\n",
    "        nums[pindex], nums[pivot] = nums[pivot], nums[pindex]\n",
    "        return pindex\n",
    "    if not end:\n",
    "        end = len(nums)-1\n",
    "    if start >= end:\n",
    "        return None\n",
    "    pivot = partition(nums, start, end)\n",
    "    quicksort(nums, start, pivot-1)\n",
    "    quicksort(nums, pivot+1, end)\n",
    "    \n",
    "a = [2, 9, 2, 3, 5, 8, 1]\n",
    "quicksort(a)\n",
    "assert a == [1, 2, 2, 3, 5, 8, 9]\n",
    "print('All passed!')"
   ]
  },
  {
   "cell_type": "markdown",
   "metadata": {},
   "source": [
    "### Implement Mergesort"
   ]
  },
  {
   "cell_type": "code",
   "execution_count": 3,
   "metadata": {
    "collapsed": false
   },
   "outputs": [
    {
     "name": "stdout",
     "output_type": "stream",
     "text": [
      "All passed!\n"
     ]
    }
   ],
   "source": [
    "def mergesort(nums):\n",
    "    \"\"\"Mergesort.\"\"\"\n",
    "    def merge(a, b):\n",
    "        m, n = len(a), len(b)\n",
    "        i, j, merged = 0, 0, []\n",
    "        while i < m and j < n:\n",
    "            if a[i] < b[j]:\n",
    "                merged.append(a[i])\n",
    "                i += 1\n",
    "            else:\n",
    "                merged.append(b[j])\n",
    "                j += 1\n",
    "        if j == n and i < m:\n",
    "            merged += a[i:]\n",
    "        if i == m and j < n:\n",
    "            merged += b[j:]\n",
    "        return merged\n",
    "    n = len(nums)\n",
    "    if n < 2:\n",
    "        return nums\n",
    "    mid = n/2\n",
    "    a = mergesort(nums[:mid])\n",
    "    b = mergesort(nums[mid:])\n",
    "    return merge(a, b)\n",
    "    \n",
    "a = [2, 9, 2, 3, 5, 8, 1]\n",
    "quicksort(a)\n",
    "assert a == [1, 2, 2, 3, 5, 8, 9]\n",
    "print('All passed!')"
   ]
  },
  {
   "cell_type": "markdown",
   "metadata": {},
   "source": [
    "### Find shortest path in undirected graph\n",
    "Given a graph *g* represented as adjacency list and nodes *u* and *v*, find shortest path between *u* and *v*."
   ]
  },
  {
   "cell_type": "code",
   "execution_count": 27,
   "metadata": {
    "collapsed": false
   },
   "outputs": [
    {
     "name": "stdout",
     "output_type": "stream",
     "text": [
      "All passed!\n"
     ]
    }
   ],
   "source": [
    "def shortest_path(g, u, v):\n",
    "    \"\"\"Find shortest path between u and v in g.\"\"\"\n",
    "    visited = set()\n",
    "    from Queue import Queue\n",
    "    q = Queue()\n",
    "    q.put((u, [u]))\n",
    "    while not q.empty():\n",
    "        node, path = q.get()\n",
    "        if node == v:\n",
    "            return path\n",
    "        visited.add(node)\n",
    "        for neighbor in g[node]:\n",
    "            if not neighbor in visited:\n",
    "                q.put((neighbor, path+[neighbor]))\n",
    "\n",
    "assert shortest_path({'a': ['a']}, 'a', 'a') == ['a']\n",
    "graph = {'a': ['b'], 'b': ['a', 'c', 'd'], 'c': ['b', 'd', 'e'], 'd': ['b', 'c', 'f'], \n",
    "     'e': ['c', 'f', 'g'], 'f': ['d', 'e', 'g'], 'g': ['e', 'f']}\n",
    "start = 'a'\n",
    "end = 'g'\n",
    "assert len(shortest_path(graph, start, end)) == 5\n",
    "print('All passed!')"
   ]
  },
  {
   "cell_type": "markdown",
   "metadata": {},
   "source": [
    "More blue belt problems to come."
   ]
  },
  {
   "cell_type": "markdown",
   "metadata": {},
   "source": [
    "## Red and Black belts\n",
    "Implementing your own hash table, heap, caching algorithms, serializing/deserializing binary trees and more fun coming soon..."
   ]
  }
 ],
 "metadata": {
  "anaconda-cloud": {},
  "kernelspec": {
   "display_name": "Python 2",
   "language": "python",
   "name": "python2"
  },
  "language_info": {
   "codemirror_mode": {
    "name": "ipython",
    "version": 2
   },
   "file_extension": ".py",
   "mimetype": "text/x-python",
   "name": "python",
   "nbconvert_exporter": "python",
   "pygments_lexer": "ipython2",
   "version": "2.7.11"
  }
 },
 "nbformat": 4,
 "nbformat_minor": 0
}
